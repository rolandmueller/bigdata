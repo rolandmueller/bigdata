{
 "cells": [
  {
   "cell_type": "code",
   "execution_count": 1,
   "metadata": {
    "collapsed": true
   },
   "outputs": [],
   "source": [
    "import random\n",
    "random.seed(1000)\n",
    "import matplotlib.pyplot as plt\n",
    "from timeit import default_timer as timer"
   ]
  },
  {
   "cell_type": "code",
   "execution_count": 2,
   "metadata": {
    "collapsed": true
   },
   "outputs": [],
   "source": [
    "n = 100\n",
    "items = [int(random.random()*n) for _ in range(n)]\n",
    "i = int(random.random()*n)"
   ]
  },
  {
   "cell_type": "code",
   "execution_count": 3,
   "metadata": {
    "collapsed": true
   },
   "outputs": [],
   "source": [
    "def calc_mean(items):\n",
    "    n = 0\n",
    "    sum_of_items = 0\n",
    "    for item in items:\n",
    "        sum_of_items += item\n",
    "        n += 1\n",
    "    return sum_of_items / n"
   ]
  },
  {
   "cell_type": "code",
   "execution_count": 4,
   "metadata": {},
   "outputs": [
    {
     "data": {
      "text/plain": [
       "49.41"
      ]
     },
     "execution_count": 4,
     "metadata": {},
     "output_type": "execute_result"
    }
   ],
   "source": [
    "calc_mean(items)"
   ]
  },
  {
   "cell_type": "markdown",
   "metadata": {},
   "source": [
    "# Different Timing Possibilities"
   ]
  },
  {
   "cell_type": "code",
   "execution_count": 5,
   "metadata": {},
   "outputs": [
    {
     "name": "stdout",
     "output_type": "stream",
     "text": [
      "7.21 µs ± 238 ns per loop (mean ± std. dev. of 7 runs, 100000 loops each)\n"
     ]
    }
   ],
   "source": [
    "%%timeit\n",
    "calc_mean(items)"
   ]
  },
  {
   "cell_type": "code",
   "execution_count": 6,
   "metadata": {},
   "outputs": [
    {
     "name": "stdout",
     "output_type": "stream",
     "text": [
      "6.9 µs ± 209 ns per loop (mean ± std. dev. of 7 runs, 100000 loops each)\n"
     ]
    }
   ],
   "source": [
    "time = %timeit -oq calc_mean(items)\n",
    "print(time)"
   ]
  },
  {
   "cell_type": "code",
   "execution_count": 7,
   "metadata": {},
   "outputs": [
    {
     "name": "stdout",
     "output_type": "stream",
     "text": [
      "0.00011618999997153878\n"
     ]
    }
   ],
   "source": [
    "start = timer() \n",
    "calc_mean(items)\n",
    "end = timer() \n",
    "\n",
    "time = end - start\n",
    "print(time)\n",
    "# Time in second"
   ]
  },
  {
   "cell_type": "markdown",
   "metadata": {},
   "source": [
    "# Algorithms with Different Time Complexity"
   ]
  },
  {
   "cell_type": "code",
   "execution_count": 8,
   "metadata": {
    "collapsed": true
   },
   "outputs": [],
   "source": [
    "def get_first_item(items):\n",
    "    \"\"\"Get the first item in a list\n",
    "    \n",
    "    :param items: list of items\n",
    "    :returns: first element\n",
    "    \"\"\"\n",
    "    return(items[0])"
   ]
  },
  {
   "cell_type": "code",
   "execution_count": 9,
   "metadata": {
    "collapsed": true
   },
   "outputs": [],
   "source": [
    "def get_any_item(items, i):\n",
    "    if i == -1:\n",
    "        print(\"Not in the list\")\n",
    "    else:\n",
    "        return(items[i])"
   ]
  },
  {
   "cell_type": "code",
   "execution_count": 10,
   "metadata": {
    "collapsed": true
   },
   "outputs": [],
   "source": [
    "def find_max(items):\n",
    "    \"\"\"Get the maximum value in a list of items\n",
    "    \n",
    "    :param items: list of items\n",
    "    :returns: maximum value in the list\n",
    "    \"\"\"\n",
    "    max = -1000000000\n",
    "    for item in items:\n",
    "        if item > max:\n",
    "            max = item\n",
    "    return max"
   ]
  },
  {
   "cell_type": "code",
   "execution_count": 11,
   "metadata": {
    "collapsed": true
   },
   "outputs": [],
   "source": [
    "def find_minmax1(items):\n",
    "    \"\"\"Get the maximum value in a list of items\n",
    "    \n",
    "    :param items: list of items\n",
    "    :returns: tuple of mininum and maximum values \n",
    "    \"\"\"\n",
    "    max = -1000000000000\n",
    "    min = 10000000000000\n",
    "    for item in items:\n",
    "        if item > max:\n",
    "            max = item\n",
    "            \n",
    "    for item in items:\n",
    "        if item < min:\n",
    "            min = item\n",
    "    return (min, max)"
   ]
  },
  {
   "cell_type": "code",
   "execution_count": 12,
   "metadata": {
    "collapsed": true
   },
   "outputs": [],
   "source": [
    "def find_minmax2(items):\n",
    "    \"\"\"Get the maximum value in a list of items\n",
    "    \n",
    "    :param items: list of items\n",
    "    :returns: tuple of mininum and maximum values \n",
    "    \"\"\"\n",
    "    max = -1000000000000\n",
    "    min = 10000000000000\n",
    "    for item in items:\n",
    "        if item > max:\n",
    "            max = item\n",
    "        if item < min:\n",
    "            min = item\n",
    "    return (min, max)"
   ]
  },
  {
   "cell_type": "code",
   "execution_count": 13,
   "metadata": {
    "collapsed": true
   },
   "outputs": [],
   "source": [
    "def all_combinations(items):\n",
    "    combinations = []\n",
    "    for item1 in items:\n",
    "        for item2 in items:\n",
    "            combinations.append((item1, item2))\n",
    "    return combinations"
   ]
  },
  {
   "cell_type": "markdown",
   "metadata": {},
   "source": [
    "# Comparision of Times\n",
    "\n",
    "| Symbol  | Name        | Unit      |\n",
    "|---------|-------------|-----------|\n",
    "| ns      | nanosecond  | $10^{-9}$ |\n",
    "| μs (us) | microsecond | $10^{-6}$ |\n",
    "| ms      | millisecond | $10^{-3}$ |\n",
    "| s       | second      | $10^{0}$|"
   ]
  },
  {
   "cell_type": "markdown",
   "metadata": {},
   "source": [
    "# Timing of the Algorithms"
   ]
  },
  {
   "cell_type": "code",
   "execution_count": 14,
   "metadata": {},
   "outputs": [
    {
     "name": "stdout",
     "output_type": "stream",
     "text": [
      "118 ns ± 2.09 ns per loop (mean ± std. dev. of 7 runs, 10000000 loops each)\n"
     ]
    }
   ],
   "source": [
    "%%timeit\n",
    "get_first_item(items)"
   ]
  },
  {
   "cell_type": "code",
   "execution_count": 15,
   "metadata": {},
   "outputs": [
    {
     "name": "stdout",
     "output_type": "stream",
     "text": [
      "147 ns ± 0.954 ns per loop (mean ± std. dev. of 7 runs, 10000000 loops each)\n"
     ]
    }
   ],
   "source": [
    "%%timeit\n",
    "get_any_item(items, i)"
   ]
  },
  {
   "cell_type": "code",
   "execution_count": 16,
   "metadata": {},
   "outputs": [
    {
     "name": "stdout",
     "output_type": "stream",
     "text": [
      "2.94 µs ± 239 ns per loop (mean ± std. dev. of 7 runs, 100000 loops each)\n"
     ]
    }
   ],
   "source": [
    "%%timeit\n",
    "find_max(items)"
   ]
  },
  {
   "cell_type": "code",
   "execution_count": 17,
   "metadata": {},
   "outputs": [
    {
     "name": "stdout",
     "output_type": "stream",
     "text": [
      "5.81 µs ± 29.4 ns per loop (mean ± std. dev. of 7 runs, 100000 loops each)\n"
     ]
    }
   ],
   "source": [
    "%%timeit\n",
    "find_minmax1(items)"
   ]
  },
  {
   "cell_type": "code",
   "execution_count": 18,
   "metadata": {},
   "outputs": [
    {
     "name": "stdout",
     "output_type": "stream",
     "text": [
      "4.96 µs ± 64.2 ns per loop (mean ± std. dev. of 7 runs, 100000 loops each)\n"
     ]
    }
   ],
   "source": [
    "%%timeit\n",
    "find_minmax2(items)"
   ]
  },
  {
   "cell_type": "code",
   "execution_count": 19,
   "metadata": {},
   "outputs": [
    {
     "name": "stdout",
     "output_type": "stream",
     "text": [
      "1.15 ms ± 60.5 µs per loop (mean ± std. dev. of 7 runs, 1000 loops each)\n"
     ]
    }
   ],
   "source": [
    "%%timeit\n",
    "all_combinations(items)"
   ]
  },
  {
   "cell_type": "markdown",
   "metadata": {},
   "source": [
    "# Plotting Time as a Function of Input Size n"
   ]
  },
  {
   "cell_type": "code",
   "execution_count": 20,
   "metadata": {
    "collapsed": true
   },
   "outputs": [],
   "source": [
    "list_of_n = [10, 50, 100, 200, 300, 400, 600, 800]"
   ]
  },
  {
   "cell_type": "markdown",
   "metadata": {},
   "source": [
    "## Constant"
   ]
  },
  {
   "cell_type": "code",
   "execution_count": 22,
   "metadata": {},
   "outputs": [
    {
     "name": "stdout",
     "output_type": "stream",
     "text": [
      "120 ns ± 7.62 ns per loop (mean ± std. dev. of 7 runs, 10000000 loops each)\n",
      "121 ns ± 8.84 ns per loop (mean ± std. dev. of 7 runs, 10000000 loops each)\n",
      "118 ns ± 1.68 ns per loop (mean ± std. dev. of 7 runs, 10000000 loops each)\n",
      "118 ns ± 3.29 ns per loop (mean ± std. dev. of 7 runs, 10000000 loops each)\n",
      "121 ns ± 2.38 ns per loop (mean ± std. dev. of 7 runs, 10000000 loops each)\n",
      "120 ns ± 3.32 ns per loop (mean ± std. dev. of 7 runs, 10000000 loops each)\n",
      "118 ns ± 0.838 ns per loop (mean ± std. dev. of 7 runs, 10000000 loops each)\n",
      "116 ns ± 3.21 ns per loop (mean ± std. dev. of 7 runs, 10000000 loops each)\n"
     ]
    },
    {
     "data": {
      "image/png": "[encoded data removed]",
      "text/plain": [
       "<Figure size 432x288 with 1 Axes>"
      ]
     },
     "metadata": {},
     "output_type": "display_data"
    }
   ],
   "source": [
    "measures = []\n",
    "for n in list_of_n:\n",
    "    items = [int(random.random()*n) for _ in range(n)]\n",
    "    time = %timeit -o get_first_item(items)\n",
    "    measures.append((n, time.average))\n",
    "plt.plot(*zip(*measures))\n",
    "plt.ylim(ymin=0)\n",
    "plt.show()"
   ]
  },
  {
   "cell_type": "markdown",
   "metadata": {},
   "source": [
    "## Linear"
   ]
  },
  {
   "cell_type": "code",
   "execution_count": 23,
   "metadata": {},
   "outputs": [
    {
     "name": "stdout",
     "output_type": "stream",
     "text": [
      "471 ns ± 24.9 ns per loop (mean ± std. dev. of 7 runs, 1000000 loops each)\n",
      "1.57 µs ± 30.6 ns per loop (mean ± std. dev. of 7 runs, 1000000 loops each)\n",
      "2.99 µs ± 234 ns per loop (mean ± std. dev. of 7 runs, 100000 loops each)\n",
      "5.83 µs ± 263 ns per loop (mean ± std. dev. of 7 runs, 100000 loops each)\n",
      "8.72 µs ± 577 ns per loop (mean ± std. dev. of 7 runs, 100000 loops each)\n",
      "11.8 µs ± 846 ns per loop (mean ± std. dev. of 7 runs, 100000 loops each)\n",
      "18.1 µs ± 1.25 µs per loop (mean ± std. dev. of 7 runs, 100000 loops each)\n",
      "22.6 µs ± 1.33 µs per loop (mean ± std. dev. of 7 runs, 10000 loops each)\n"
     ]
    },
    {
     "data": {
      "image/png": "[encoded data removed]",
      "text/plain": [
       "<Figure size 432x288 with 1 Axes>"
      ]
     },
     "metadata": {},
     "output_type": "display_data"
    }
   ],
   "source": [
    "measures = []\n",
    "for n in list_of_n:\n",
    "    items = [int(random.random()*n) for _ in range(n)]\n",
    "    time = %timeit -o find_max(items)\n",
    "    measures.append((n, time.average))\n",
    "plt.plot(*zip(*measures))\n",
    "plt.ylim(ymin=0)\n",
    "plt.show()"
   ]
  },
  {
   "cell_type": "code",
   "execution_count": 18,
   "metadata": {},
   "outputs": [
    {
     "name": "stdout",
     "output_type": "stream",
     "text": [
      "1 µs ± 75.7 ns per loop (mean ± std. dev. of 7 runs, 1000000 loops each)\n",
      "4.01 µs ± 747 ns per loop (mean ± std. dev. of 7 runs, 100000 loops each)\n",
      "9.93 µs ± 2.55 µs per loop (mean ± std. dev. of 7 runs, 100000 loops each)\n",
      "13.6 µs ± 528 ns per loop (mean ± std. dev. of 7 runs, 100000 loops each)\n",
      "22.7 µs ± 2.21 µs per loop (mean ± std. dev. of 7 runs, 100000 loops each)\n",
      "37.1 µs ± 8.44 µs per loop (mean ± std. dev. of 7 runs, 10000 loops each)\n",
      "37.3 µs ± 2.39 µs per loop (mean ± std. dev. of 7 runs, 10000 loops each)\n",
      "50.9 µs ± 3.73 µs per loop (mean ± std. dev. of 7 runs, 10000 loops each)\n"
     ]
    },
    {
     "data": {
      "image/png": "[encoded data removed]",
      "text/plain": [
       "<Figure size 432x288 with 1 Axes>"
      ]
     },
     "metadata": {},
     "output_type": "display_data"
    }
   ],
   "source": [
    "measures = []\n",
    "for n in list_of_n:\n",
    "    items = [int(random.random()*n) for _ in range(n)]\n",
    "    time = %timeit -o find_minmax1(items)\n",
    "    measures.append((n, time.average))\n",
    "plt.plot(*zip(*measures))\n",
    "plt.ylim(ymin=0)\n",
    "plt.show()"
   ]
  },
  {
   "cell_type": "code",
   "execution_count": 19,
   "metadata": {},
   "outputs": [
    {
     "name": "stdout",
     "output_type": "stream",
     "text": [
      "928 ns ± 93 ns per loop (mean ± std. dev. of 7 runs, 1000000 loops each)\n",
      "4.09 µs ± 942 ns per loop (mean ± std. dev. of 7 runs, 100000 loops each)\n",
      "6.82 µs ± 726 ns per loop (mean ± std. dev. of 7 runs, 100000 loops each)\n",
      "14.4 µs ± 3.15 µs per loop (mean ± std. dev. of 7 runs, 100000 loops each)\n",
      "18.1 µs ± 1.06 µs per loop (mean ± std. dev. of 7 runs, 100000 loops each)\n",
      "24.4 µs ± 4.99 µs per loop (mean ± std. dev. of 7 runs, 10000 loops each)\n",
      "36.6 µs ± 7.69 µs per loop (mean ± std. dev. of 7 runs, 10000 loops each)\n",
      "51.9 µs ± 11 µs per loop (mean ± std. dev. of 7 runs, 10000 loops each)\n"
     ]
    },
    {
     "data": {
      "image/png": "[encoded data removed]",
      "text/plain": [
       "<Figure size 432x288 with 1 Axes>"
      ]
     },
     "metadata": {},
     "output_type": "display_data"
    }
   ],
   "source": [
    "measures = []\n",
    "for n in list_of_n:\n",
    "    items = [int(random.random()*n) for _ in range(n)]\n",
    "    time = %timeit -o find_minmax2(items)\n",
    "    measures.append((n, time.average))\n",
    "plt.plot(*zip(*measures))\n",
    "plt.ylim(ymin=0)\n",
    "plt.show()"
   ]
  },
  {
   "cell_type": "markdown",
   "metadata": {},
   "source": [
    "## Quadratic"
   ]
  },
  {
   "cell_type": "code",
   "execution_count": 20,
   "metadata": {},
   "outputs": [
    {
     "name": "stdout",
     "output_type": "stream",
     "text": [
      "14.9 µs ± 2.05 µs per loop (mean ± std. dev. of 7 runs, 100000 loops each)\n",
      "383 µs ± 104 µs per loop (mean ± std. dev. of 7 runs, 1000 loops each)\n",
      "1.42 ms ± 163 µs per loop (mean ± std. dev. of 7 runs, 100 loops each)\n",
      "8.03 ms ± 1.18 ms per loop (mean ± std. dev. of 7 runs, 100 loops each)\n",
      "15 ms ± 1e+03 µs per loop (mean ± std. dev. of 7 runs, 100 loops each)\n",
      "36.5 ms ± 7.02 ms per loop (mean ± std. dev. of 7 runs, 10 loops each)\n",
      "83.9 ms ± 16.5 ms per loop (mean ± std. dev. of 7 runs, 10 loops each)\n",
      "155 ms ± 10.2 ms per loop (mean ± std. dev. of 7 runs, 10 loops each)\n"
     ]
    },
    {
     "data": {
      "image/png": "[encoded data removed]",
      "text/plain": [
       "<Figure size 432x288 with 1 Axes>"
      ]
     },
     "metadata": {},
     "output_type": "display_data"
    }
   ],
   "source": [
    "measures = []\n",
    "for n in list_of_n:\n",
    "    items = [int(random.random()*n) for _ in range(n)]\n",
    "    time = %timeit -o all_combinations(items)\n",
    "    measures.append((n, time.average))\n",
    "plt.plot(*zip(*measures))\n",
    "plt.ylim(ymin=0)\n",
    "plt.show()"
   ]
  }
 ],
 "metadata": {
  "kernelspec": {
   "display_name": "Python 3",
   "language": "python",
   "name": "python3"
  },
  "language_info": {
   "codemirror_mode": {
    "name": "ipython",
    "version": 3
   },
   "file_extension": ".py",
   "mimetype": "text/x-python",
   "name": "python",
   "nbconvert_exporter": "python",
   "pygments_lexer": "ipython3",
   "version": "3.6.1"
  },
  "varInspector": {
   "cols": {
    "lenName": 16,
    "lenType": 16,
    "lenVar": 40
   },
   "kernels_config": {
    "python": {
     "delete_cmd_postfix": "",
     "delete_cmd_prefix": "del ",
     "library": "var_list.py",
     "varRefreshCmd": "print(var_dic_list())"
    },
    "r": {
     "delete_cmd_postfix": ") ",
     "delete_cmd_prefix": "rm(",
     "library": "var_list.r",
     "varRefreshCmd": "cat(var_dic_list()) "
    }
   },
   "types_to_exclude": [
    "module",
    "function",
    "builtin_function_or_method",
    "instance",
    "_Feature"
   ],
   "window_display": false
  }
 },
 "nbformat": 4,
 "nbformat_minor": 2
}
